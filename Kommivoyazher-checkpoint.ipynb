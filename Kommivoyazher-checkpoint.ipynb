{
 "cells": [
  {
   "cell_type": "code",
   "execution_count": 1,
   "metadata": {},
   "outputs": [],
   "source": [
    "import numpy as np\n",
    "from collections import defaultdict\n",
    "from random import *\n",
    "import random"
   ]
  },
  {
   "cell_type": "code",
   "execution_count": 2,
   "metadata": {},
   "outputs": [],
   "source": [
    "points = {\n",
    "    (0, 1): 10, (0, 2): 15, (0, 3): 11, (0, 4): 2, (0, 5): 55,\n",
    "    (1, 2): 16, (1, 3): 18, (1, 4): 21, (1, 5): 13,\n",
    "    (2, 3): 39, (2, 4): 22, (2, 5): 3,\n",
    "    (3, 4): 28, (3, 5): 25,\n",
    "    (4, 5): 2\n",
    "}"
   ]
  },
  {
   "cell_type": "code",
   "execution_count": 3,
   "metadata": {},
   "outputs": [],
   "source": [
    "parents = []\n",
    "\n",
    "random.seed(123)\n",
    "\n",
    "for i in range(4):\n",
    "    parents.append(list(np.random.permutation(6)))"
   ]
  },
  {
   "cell_type": "code",
   "execution_count": 4,
   "metadata": {},
   "outputs": [
    {
     "data": {
      "text/plain": "[[1, 5, 0, 2, 3, 4],\n [0, 5, 4, 2, 3, 1],\n [0, 3, 4, 2, 1, 5],\n [2, 3, 0, 1, 5, 4]]"
     },
     "execution_count": 4,
     "metadata": {},
     "output_type": "execute_result"
    }
   ],
   "source": [
    "parents"
   ]
  },
  {
   "cell_type": "code",
   "execution_count": 5,
   "metadata": {},
   "outputs": [],
   "source": [
    "def fitness(mas):\n",
    "    S = 0\n",
    "    for i in range(len(mas)-1):\n",
    "        S += points[tuple(sorted((mas[i], mas[i+1])))]\n",
    "    return S"
   ]
  },
  {
   "cell_type": "code",
   "execution_count": 6,
   "metadata": {},
   "outputs": [
    {
     "data": {
      "text/plain": "150"
     },
     "execution_count": 6,
     "metadata": {},
     "output_type": "execute_result"
    }
   ],
   "source": [
    "fitness(parents[0])"
   ]
  },
  {
   "cell_type": "code",
   "execution_count": 7,
   "metadata": {},
   "outputs": [],
   "source": [
    "def circle(parents, num):\n",
    "    #генерация вероятностей--------------------------------------------\n",
    "    F_mas = []\n",
    "    \n",
    "    S = 0\n",
    "    for p in parents:\n",
    "        temp = 1/fitness(p)\n",
    "        S += temp\n",
    "        F_mas.append(temp)\n",
    "    \n",
    "    probabilities = []\n",
    "    \n",
    "    prob = 0\n",
    "    for i in F_mas:\n",
    "        prob += i/S\n",
    "        probabilities.append(prob)\n",
    "    \n",
    "    for i in range(len(probabilities)):\n",
    "        probabilities[i] = round(probabilities[i], 2)* 100\n",
    "    \n",
    "    print(probabilities)\n",
    "    #вращение колеса--------------------------------------------------\n",
    "    \n",
    "    output = []\n",
    "    for i in range(num):\n",
    "        rand_num = random.randint(0, 100)\n",
    "        print(rand_num)\n",
    "        previous = 0\n",
    "        for j in range(len(probabilities)):\n",
    "            if rand_num >= previous and rand_num < probabilities[j]:\n",
    "                output.append(j)\n",
    "                break\n",
    "            else:\n",
    "                previous = probabilities[j]\n",
    "       \n",
    "    return(output)"
   ]
  },
  {
   "cell_type": "code",
   "execution_count": 8,
   "metadata": {},
   "outputs": [
    {
     "name": "stdout",
     "output_type": "stream",
     "text": [
      "[17.0, 36.0, 65.0, 100.0]\n",
      "6\n",
      "34\n",
      "11\n",
      "98\n"
     ]
    },
    {
     "data": {
      "text/plain": "[0, 1, 0, 3]"
     },
     "execution_count": 8,
     "metadata": {},
     "output_type": "execute_result"
    }
   ],
   "source": [
    "circle(parents, 4)"
   ]
  },
  {
   "cell_type": "code",
   "execution_count": 9,
   "metadata": {},
   "outputs": [],
   "source": [
    "def crossover1(mas1, mas2, p1, p2): #p1 и p2 - это левый и правый элемент \"середины\", которой гены обмениваются\n",
    "    random.seed(2)\n",
    "    \n",
    "    res1 = [-1 for i in range(len(mas1))] #результирующие \n",
    "    res2 = [-1 for i in range(len(mas2))]\n",
    "    \n",
    "    links = defaultdict(list)\n",
    "    \n",
    "    for i in range(p1, p2):\n",
    "        res1[i] = mas2[i]\n",
    "        res2[i] = mas1[i]\n",
    "        links[mas1[i]] = mas2[i] #создаем ссылки\n",
    "        links[mas2[i]] = mas1[i]\n",
    "        \n",
    "    for i in range(len(res1)):\n",
    "        if res1[i] == -1:\n",
    "            if mas1[i] not in res1:\n",
    "                res1[i] = mas1[i]\n",
    "            else:\n",
    "                res1[i] = links[mas1[i]]\n",
    "            \n",
    "            if mas2[i] not in res2:\n",
    "                res2[i] = mas2[i]\n",
    "            else:\n",
    "                res2[i] = links[mas2[i]]            \n",
    "    \n",
    "    return(res1, res2)"
   ]
  },
  {
   "cell_type": "code",
   "execution_count": 10,
   "metadata": {},
   "outputs": [
    {
     "data": {
      "text/plain": "([1, 5, 4, 2, 3, 0], [4, 3, 0, 2, 1, 5])"
     },
     "execution_count": 10,
     "metadata": {},
     "output_type": "execute_result"
    }
   ],
   "source": [
    "crossover1(parents[0], parents[2], 2, 4)"
   ]
  },
  {
   "cell_type": "code",
   "execution_count": 11,
   "metadata": {},
   "outputs": [
    {
     "name": "stdout",
     "output_type": "stream",
     "text": [
      "[1, 5, 0, 2, 3, 4]\n",
      "[0, 3, 4, 2, 1, 5]\n"
     ]
    }
   ],
   "source": [
    "print(parents[0])\n",
    "print(parents[2])"
   ]
  },
  {
   "cell_type": "code",
   "execution_count": 12,
   "metadata": {},
   "outputs": [],
   "source": [
    "def crossover2(mas1, mas2):\n",
    "    random.seed(2)\n",
    "    \n",
    "    res1 = [-1 for i in range(len(mas1))] #результирующие \n",
    "    res2 = [-1 for i in range(len(mas2))]\n",
    "    \n",
    "    i = 0\n",
    "    j = 1\n",
    "    while i < len(res1) - j:             \n",
    "        if mas1[i] != mas2[i]: #если значения на левом конце не совпадают      \n",
    "            if random.choices([mas1[i], mas2[i]]) == mas1[i]: \n",
    "                if mas1[i] not in res1 and mas2[i] not in res2:\n",
    "                    res1[i] = mas1[i]\n",
    "                    res2[i] = mas2[i]\n",
    "                else:\n",
    "                    res1[i] = mas2[i]\n",
    "                    res2[i] = mas1[i]                    \n",
    "            else:\n",
    "                if mas2[i] not in res1 and mas1[i] not in res2:\n",
    "                    res1[i] = mas2[i]\n",
    "                    res2[i] = mas1[i]\n",
    "                else:\n",
    "                    res1[i] = mas1[i]\n",
    "                    res2[i] = mas2[i]\n",
    "        else:\n",
    "            res1[i] = mas1[i]\n",
    "            res2[i] = mas2[i]\n",
    "                    \n",
    "        if mas1[len(res1) - j] != mas2[len(res1) - j]: #если значения на правом конце не совпадают \n",
    "            if random.choices([mas1[len(res1) - j], mas2[len(res1) - j]]) == mas1[len(res1) - j]: \n",
    "                if mas1[len(res1) - j] not in res1 and mas2[len(res1) - j] not in res2:\n",
    "                    res1[len(res1) - j] = mas1[len(res1) - j]\n",
    "                    res2[len(res1) - j] = mas2[len(res1) - j]\n",
    "                else:\n",
    "                    res1[len(res1) - j] = mas2[len(res1) - j]\n",
    "                    res2[len(res1) - j] = mas1[len(res1) - j]\n",
    "            else:\n",
    "                if mas2[len(res1) - j] not in res1 and mas1[len(res1) - j] not in res2:\n",
    "                    res1[len(res1) - j] = mas2[len(res1) - j]\n",
    "                    res2[len(res1) - j] = mas1[len(res1) - j]\n",
    "                else:\n",
    "                    res1[len(res1) - j] = mas1[len(res1) - j]\n",
    "                    res2[len(res1) - j] = mas2[len(res1) - j]\n",
    "        else:\n",
    "            res1[len(res1) - j] = mas1[len(res1) - j]\n",
    "            res2[len(res1) - j] = mas2[len(res1) - j]\n",
    "        \n",
    "        i += 1\n",
    "        j += 1\n",
    "        \n",
    "    if i == len(res1) - j: #случай, если нечетное количество\n",
    "        if random.choices([mas1[i], mas2[i]]) == mas1[i]:\n",
    "            if mas1[i] not in res1 and mas2[i] not in res2:\n",
    "                res1[i] = mas1[i]\n",
    "                res2[i] = mas2[i]\n",
    "            else:\n",
    "                res1[i] = mas2[i]\n",
    "                res2[i] = mas1[i]                    \n",
    "        else:\n",
    "            if mas2[i] not in res1 and mas1[i] not in res2:\n",
    "                res1[i] = mas2[i]\n",
    "                res2[i] = mas1[i]\n",
    "            else:\n",
    "                res1[i] = mas1[i]\n",
    "                res2[i] = mas2[i]\n",
    "                \n",
    "    return(res1, res2)"
   ]
  },
  {
   "cell_type": "code",
   "execution_count": 13,
   "metadata": {},
   "outputs": [
    {
     "data": {
      "text/plain": "([0, 5, 4, 2, 3, 1], [1, 5, 0, 2, 3, 4])"
     },
     "execution_count": 13,
     "metadata": {},
     "output_type": "execute_result"
    }
   ],
   "source": [
    "crossover2(parents[0], parents[1])"
   ]
  },
  {
   "cell_type": "code",
   "execution_count": 14,
   "metadata": {},
   "outputs": [
    {
     "name": "stdout",
     "output_type": "stream",
     "text": [
      "[1, 5, 0, 2, 3, 4]\n",
      "[0, 5, 4, 2, 3, 1]\n"
     ]
    }
   ],
   "source": [
    "print(parents[0])\n",
    "print(parents[1])"
   ]
  },
  {
   "cell_type": "code",
   "execution_count": 15,
   "metadata": {},
   "outputs": [],
   "source": [
    "def mutation(mas, position): #положение мутирующего гена\n",
    "    \n",
    "    choice = [i for i in range(len(mas))]\n",
    "    choice.remove(position)\n",
    "    num = random.choices(choice)\n",
    "    \n",
    "    mas[position], mas[num[0]] = mas[num[0]], mas[position]\n",
    "    \n",
    "    return mas"
   ]
  },
  {
   "cell_type": "code",
   "execution_count": 16,
   "metadata": {},
   "outputs": [
    {
     "data": {
      "text/plain": "[1, 5, 0, 2, 3, 4]"
     },
     "execution_count": 16,
     "metadata": {},
     "output_type": "execute_result"
    }
   ],
   "source": [
    "parents[0]"
   ]
  },
  {
   "cell_type": "code",
   "execution_count": 17,
   "metadata": {},
   "outputs": [
    {
     "data": {
      "text/plain": "[5, 1, 0, 2, 3, 4]"
     },
     "execution_count": 17,
     "metadata": {},
     "output_type": "execute_result"
    }
   ],
   "source": [
    "mutation(parents[0], 0)"
   ]
  }
 ],
 "metadata": {
  "kernelspec": {
   "display_name": "Python 3",
   "language": "python",
   "name": "python3"
  },
  "language_info": {
   "codemirror_mode": {
    "name": "ipython",
    "version": 3
   },
   "file_extension": ".py",
   "mimetype": "text/x-python",
   "name": "python",
   "nbconvert_exporter": "python",
   "pygments_lexer": "ipython3",
   "version": "3.8.2"
  }
 },
 "nbformat": 4,
 "nbformat_minor": 4
}