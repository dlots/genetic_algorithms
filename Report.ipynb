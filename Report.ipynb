{
 "cells": [
  {
   "cell_type": "markdown",
   "metadata": {},
   "source": [
    "# Лабораторная работа №3: Генетические алгоритмы\n",
    "### 18ПМИ Богородицкая Екатерина, Сазанов Дмитрий, Селивановская Дарья"
   ]
  },
  {
   "cell_type": "markdown",
   "metadata": {},
   "source": [
    "## Задача о рюкзаке"
   ]
  },
  {
   "cell_type": "code",
   "execution_count": 1,
   "metadata": {},
   "outputs": [],
   "source": [
    "import os.path as path\n",
    "\n",
    "\n",
    "benchmarks_location = 'benchmarks'\n",
    "file_name_template = 'p0%s_%s.txt'\n",
    "indices = range(1,8)\n",
    "categories = ['c', 'w', 'p', 's']"
   ]
  },
  {
   "cell_type": "raw",
   "metadata": {},
   "source": [
    "# set cell type to 'code' to download benchmarks\n",
    "import requests\n",
    "\n",
    "\n",
    "dataset_location = 'https://people.sc.fsu.edu/~jburkardt/datasets/knapsack_01/'\n",
    "!mkdir benchmarks\n",
    "for index in indices:\n",
    "    for category in categories:\n",
    "        filename = file_name_template % (index, category)\n",
    "        r = requests.get(dataset_location + filename, allow_redirects=True)\n",
    "        file = open(path.join(benchmarks_location, filename), 'wb')\n",
    "        file.write(r.content)\n",
    "        file.close()"
   ]
  },
  {
   "cell_type": "code",
   "execution_count": 2,
   "metadata": {},
   "outputs": [],
   "source": [
    "WEIGHT = 0\n",
    "VALUE = 1\n",
    "\n",
    "\n",
    "def make_item(weight, value):\n",
    "    item = [-1, -1]\n",
    "    item[WEIGHT] = weight\n",
    "    item[VALUE] = value\n",
    "    return tuple(item)\n",
    "\n",
    "\n",
    "CAPACITY = 0\n",
    "WEIGHTS = 1\n",
    "PRICES = 2\n",
    "OPTIMAL = 3\n",
    "dataset = []\n",
    "for index in indices:\n",
    "    f = open(path.join(benchmarks_location, file_name_template % (index, 'c')))\n",
    "    capacity = int(f.read())\n",
    "    f.close()\n",
    "    f = open(path.join(benchmarks_location, file_name_template % (index, 'w')))\n",
    "    weights = [int(line) for line in f.readlines()]\n",
    "    f.close()\n",
    "    f = open(path.join(benchmarks_location, file_name_template % (index, 'p')))\n",
    "    profits = [int(line) for line in f.readlines()]\n",
    "    f.close()\n",
    "    f = open(path.join(benchmarks_location, file_name_template % (index, 's')))\n",
    "    binary_optimal = [int(line) for line in f.readlines()]\n",
    "    optimal = []\n",
    "    for i in range(len(binary_optimal)):\n",
    "        if binary_optimal[i] == 1:\n",
    "            optimal.append(i)\n",
    "    f.close()\n",
    "    items = [make_item(weight=weights[i], value=profits[i]) for i in range(len(weights))]\n",
    "    sample = [-1, -1, -1, -1]\n",
    "    sample[CAPACITY] = capacity\n",
    "    sample[WEIGHTS] = weights\n",
    "    sample[PRICES] = profits\n",
    "    sample[OPTIMAL] = optimal\n",
    "    dataset.append(tuple(sample))\n",
    "#dataset"
   ]
  },
  {
   "cell_type": "code",
   "execution_count": 3,
   "metadata": {},
   "outputs": [
    {
     "data": {
      "text/plain": [
       "[(165,\n",
       "  [23, 31, 29, 44, 53, 38, 63, 85, 89, 82],\n",
       "  [92, 57, 49, 68, 60, 43, 67, 84, 87, 72],\n",
       "  [0, 1, 2, 3, 5]),\n",
       " (26, [12, 7, 11, 8, 9], [24, 13, 23, 15, 16], [1, 2, 3]),\n",
       " (190, [56, 59, 80, 64, 75, 17], [50, 50, 64, 46, 50, 5], [0, 1, 4]),\n",
       " (50, [31, 10, 20, 19, 4, 3, 6], [70, 20, 39, 37, 7, 5, 10], [0, 3]),\n",
       " (104,\n",
       "  [25, 35, 45, 5, 25, 3, 2, 2],\n",
       "  [350, 400, 450, 20, 70, 8, 5, 5],\n",
       "  [0, 2, 3, 4, 6, 7]),\n",
       " (170,\n",
       "  [41, 50, 49, 59, 55, 57, 60],\n",
       "  [442, 525, 511, 593, 546, 564, 617],\n",
       "  [1, 3, 6]),\n",
       " (750,\n",
       "  [70, 73, 77, 80, 82, 87, 90, 94, 98, 106, 110, 113, 115, 118, 120],\n",
       "  [135, 139, 149, 150, 156, 163, 173, 184, 192, 201, 210, 214, 221, 229, 240],\n",
       "  [0, 2, 4, 6, 7, 8, 13, 14])]"
      ]
     },
     "execution_count": 3,
     "metadata": {},
     "output_type": "execute_result"
    }
   ],
   "source": [
    "dataset"
   ]
  },
  {
   "cell_type": "code",
   "execution_count": 4,
   "metadata": {},
   "outputs": [],
   "source": [
    "import time as timer\n",
    "\n",
    "\n",
    "def get_output_and_time(iterations, f, *args):\n",
    "    start = timer.time()\n",
    "    for i in range(iterations):\n",
    "        output = f(*args)\n",
    "    elapsed = timer.time() - start\n",
    "    return output, elapsed"
   ]
  },
  {
   "cell_type": "code",
   "execution_count": 5,
   "metadata": {},
   "outputs": [],
   "source": [
    "from genetic_knapsack import knapsack_ga"
   ]
  },
  {
   "cell_type": "code",
   "execution_count": 6,
   "metadata": {},
   "outputs": [
    {
     "name": "stdout",
     "output_type": "stream",
     "text": [
      "Sample 1\n",
      "([1, 1, 1, 1, 0, 1, 0, 0, 0, 0], 2.7084858417510986) \n",
      "\n",
      "Sample 2\n",
      "([0, 1, 1, 1, 0], 2.093189001083374) \n",
      "\n",
      "Sample 3\n",
      "([1, 1, 0, 0, 1, 0], 2.1672539710998535) \n",
      "\n",
      "Sample 4\n",
      "([1, 0, 0, 1, 0, 0, 0], 2.307203531265259) \n",
      "\n",
      "Sample 5\n",
      "([1, 0, 1, 1, 1, 0, 1, 1], 2.3725295066833496) \n",
      "\n",
      "Sample 6\n",
      "([0, 1, 0, 1, 0, 0, 1], 2.376730442047119) \n",
      "\n",
      "Sample 7\n",
      "([0, 1, 1, 1, 0, 0, 1, 1, 1, 0, 0, 0, 0, 1, 1], 3.1435112953186035) \n",
      "\n"
     ]
    }
   ],
   "source": [
    "for index in range(len(dataset)):\n",
    "    print('Sample %s' % (index+1))\n",
    "    sample = dataset[index]\n",
    "    print(get_output_and_time(10, knapsack_ga, sample[WEIGHTS], sample[PRICES], sample[CAPACITY], 100, 10, 100, 0.8),'\\n')"
   ]
  },
  {
   "cell_type": "markdown",
   "metadata": {},
   "source": [
    "## Задача коммивояжера"
   ]
  },
  {
   "cell_type": "code",
   "execution_count": 7,
   "metadata": {},
   "outputs": [],
   "source": [
    "from genetic_tsp import tsp"
   ]
  },
  {
   "cell_type": "code",
   "execution_count": 8,
   "metadata": {},
   "outputs": [],
   "source": [
    "benchmarks = ['a280.tsp', 'att48.tsp', 'fl417.tsp', 'ch150.tsp']"
   ]
  },
  {
   "cell_type": "code",
   "execution_count": 9,
   "metadata": {},
   "outputs": [
    {
     "name": "stdout",
     "output_type": "stream",
     "text": [
      "time: 18.01451873779297\n",
      "path length: 31853\n",
      "path: [61, 109, 55, 107, 216, 4, 74, 213, 258, 277, 185, 140, 207, 73, 2, 223, 66, 19, 240, 257, 139, 224, 161, 141, 7, 125, 168, 71, 262, 225, 20, 211, 122, 136, 138, 105, 153, 86, 103, 230, 259, 239, 174, 27, 10, 50, 97, 227, 110, 99, 114, 75, 64, 188, 108, 68, 87, 197, 251, 195, 155, 84, 48, 192, 90, 15, 146, 92, 235, 53, 79, 200, 241, 132, 46, 150, 172, 118, 215, 217, 183, 127, 30, 117, 76, 147, 11, 209, 69, 176, 24, 276, 169, 93, 156, 88, 101, 126, 182, 115, 123, 13, 57, 236, 187, 263, 228, 242, 17, 186, 253, 5, 254, 72, 41, 278, 179, 250, 206, 12, 202, 205, 244, 134, 175, 18, 233, 23, 256, 167, 137, 194, 204, 267, 91, 102, 190, 177, 234, 226, 45, 52, 219, 246, 274, 145, 260, 47, 63, 249, 100, 120, 232, 142, 248, 199, 80, 151, 198, 77, 70, 164, 3, 106, 34, 245, 220, 39, 111, 264, 180, 22, 221, 113, 266, 181, 42, 203, 237, 196, 130, 38, 159, 229, 231, 131, 32, 265, 9, 51, 149, 8, 247, 54, 268, 59, 26, 129, 35, 279, 128, 16, 144, 272, 255, 158, 82, 273, 14, 261, 269, 160, 43, 148, 124, 171, 31, 212, 112, 178, 83, 271, 170, 214, 218, 165, 95, 96, 60, 36, 135, 208, 184, 133, 238, 252, 81, 85, 173, 191, 94, 222, 119, 21, 154, 121, 37, 98, 44, 25, 78, 67, 29, 166, 104, 162, 152, 28, 143, 193, 210, 1, 40, 189, 56, 58, 49, 6, 270, 116, 33, 89, 243, 0, 157, 201, 163, 65, 275, 62]\n",
      " \n",
      "\n",
      "time: 3.5325493812561035\n",
      "path length: 138388\n",
      "path: [35, 29, 22, 11, 18, 45, 47, 28, 20, 8, 36, 43, 6, 27, 37, 38, 9, 10, 39, 3, 2, 24, 25, 32, 42, 23, 40, 34, 21, 12, 0, 15, 46, 13, 14, 30, 26, 7, 33, 41, 44, 16, 1, 4, 31, 5, 17, 19]\n",
      " \n",
      "\n",
      "time: 28.734527587890625\n",
      "path length: 447190\n",
      "path: [371, 244, 245, 307, 279, 354, 125, 88, 9, 409, 237, 306, 1, 51, 379, 82, 4, 202, 416, 116, 40, 269, 391, 320, 132, 67, 318, 25, 353, 187, 170, 109, 77, 234, 362, 410, 3, 44, 122, 411, 89, 341, 179, 68, 285, 271, 42, 157, 412, 138, 119, 128, 329, 176, 140, 326, 181, 14, 66, 46, 243, 162, 130, 415, 208, 376, 19, 238, 86, 246, 60, 196, 108, 112, 336, 123, 124, 327, 106, 104, 22, 241, 229, 18, 184, 141, 227, 85, 365, 396, 366, 378, 408, 95, 388, 235, 49, 182, 135, 328, 274, 302, 372, 364, 400, 114, 282, 289, 349, 139, 142, 185, 2, 159, 43, 143, 317, 337, 346, 367, 69, 20, 321, 401, 348, 331, 413, 399, 261, 390, 191, 404, 171, 177, 8, 149, 309, 402, 266, 313, 148, 356, 178, 373, 207, 324, 31, 74, 263, 16, 26, 151, 33, 98, 36, 384, 113, 267, 333, 167, 283, 314, 7, 96, 228, 381, 259, 63, 414, 79, 99, 236, 296, 190, 59, 398, 368, 56, 168, 110, 121, 152, 357, 250, 308, 48, 144, 251, 201, 90, 65, 394, 102, 21, 393, 247, 193, 156, 270, 224, 136, 115, 220, 11, 352, 310, 84, 226, 23, 315, 15, 360, 55, 105, 197, 169, 276, 369, 343, 126, 297, 195, 137, 380, 280, 70, 361, 165, 292, 54, 203, 382, 158, 255, 205, 363, 303, 146, 76, 375, 275, 286, 35, 209, 150, 273, 383, 340, 27, 407, 221, 175, 218, 81, 24, 5, 53, 211, 62, 45, 374, 325, 17, 97, 242, 173, 300, 350, 163, 91, 264, 338, 160, 231, 131, 256, 215, 133, 239, 345, 145, 316, 127, 61, 253, 57, 252, 94, 186, 397, 50, 38, 294, 287, 210, 254, 100, 284, 240, 222, 260, 147, 301, 129, 134, 174, 322, 72, 71, 389, 47, 277, 153, 304, 298, 12, 344, 323, 29, 248, 355, 281, 342, 272, 258, 155, 405, 403, 249, 117, 78, 28, 73, 406, 257, 87, 92, 387, 206, 347, 332, 339, 103, 262, 288, 265, 278, 58, 93, 10, 330, 291, 216, 183, 299, 189, 358, 214, 161, 111, 305, 194, 0, 312, 385, 34, 37, 290, 293, 101, 154, 6, 80, 386, 219, 30, 370, 188, 223, 395, 166, 233, 204, 359, 32, 13, 217, 107, 232, 213, 39, 311, 335, 230, 268, 199, 319, 212, 52, 192, 118, 83, 334, 120, 41, 392, 225, 164, 295, 64, 198, 172, 351, 180, 200, 75, 377]\n",
      " \n",
      "\n",
      "time: 9.712358236312866\n",
      "path length: 50298\n",
      "path: [22, 111, 123, 86, 42, 132, 41, 15, 58, 44, 103, 59, 73, 112, 118, 9, 85, 32, 141, 56, 40, 16, 92, 137, 125, 107, 116, 67, 109, 83, 140, 33, 29, 62, 28, 17, 97, 55, 46, 108, 114, 54, 36, 126, 74, 21, 88, 3, 135, 0, 113, 78, 110, 49, 105, 124, 139, 104, 30, 1, 60, 81, 6, 66, 130, 23, 80, 25, 18, 106, 5, 20, 34, 31, 127, 72, 75, 115, 26, 61, 90, 11, 95, 82, 146, 70, 52, 79, 57, 38, 37, 147, 4, 96, 119, 47, 91, 77, 35, 24, 84, 39, 68, 148, 120, 27, 134, 142, 143, 133, 131, 145, 48, 65, 121, 43, 51, 102, 53, 99, 100, 76, 144, 50, 128, 2, 63, 71, 13, 93, 149, 89, 138, 117, 98, 136, 14, 12, 45, 122, 64, 94, 87, 7, 129, 19, 10, 101, 69, 8]\n",
      " \n",
      "\n"
     ]
    }
   ],
   "source": [
    "for benchmark in benchmarks:\n",
    "    solution, time = get_output_and_time(1, tsp, benchmark, 50, 6, 10000)\n",
    "    print('time: %s\\npath length: %s\\npath: %s\\n' % (time, solution[0], solution[1][0]), '\\n')"
   ]
  },
  {
   "cell_type": "code",
   "execution_count": null,
   "metadata": {},
   "outputs": [],
   "source": []
  }
 ],
 "metadata": {
  "kernelspec": {
   "display_name": "Python 3",
   "language": "python",
   "name": "python3"
  },
  "language_info": {
   "codemirror_mode": {
    "name": "ipython",
    "version": 3
   },
   "file_extension": ".py",
   "mimetype": "text/x-python",
   "name": "python",
   "nbconvert_exporter": "python",
   "pygments_lexer": "ipython3",
   "version": "3.8.3"
  }
 },
 "nbformat": 4,
 "nbformat_minor": 4
}
